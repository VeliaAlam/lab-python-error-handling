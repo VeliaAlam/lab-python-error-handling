{
 "cells": [
  {
   "cell_type": "markdown",
   "id": "25d7736c-ba17-4aff-b6bb-66eba20fbf4e",
   "metadata": {},
   "source": [
    "# Lab | Error Handling"
   ]
  },
  {
   "cell_type": "markdown",
   "id": "bc99b386-7508-47a0-bcdb-d969deaf6c8b",
   "metadata": {},
   "source": [
    "## Exercise: Error Handling for Managing Customer Orders\n",
    "\n",
    "The implementation of your code for managing customer orders assumes that the user will always enter a valid input. \n",
    "\n",
    "For example, we could modify the `initialize_inventory` function to include error handling.\n",
    "   - If the user enters an invalid quantity (e.g., a negative value or a non-numeric value), display an error message and ask them to re-enter the quantity for that product.\n",
    "   - Use a try-except block to handle the error and continue prompting the user until a valid quantity is entered.\n",
    "\n",
    "```python\n",
    "products = [\"t-shirt\", \"mug\", \"hat\", \"book\", \"keychain\"]\n",
    "# Step 1: Define the function for initializing the inventory with error handling\n",
    "def initialize_inventory(products):\n",
    "    inventory = {}\n",
    "    for product in products:\n",
    "        valid_quantity = False\n",
    "        while not valid_quantity:\n",
    "            try:\n",
    "                quantity = int(input(f\"Enter the quantity of {product}s available: \"))\n",
    "                if quantity < 0:\n",
    "                    raise ValueError(\"Invalid quantity! Please enter a non-negative value.\")\n",
    "                valid_quantity = True\n",
    "            except ValueError as error:\n",
    "                print(f\"Error: {error}\")\n",
    "        inventory[product] = quantity\n",
    "    return inventory\n",
    "\n",
    "# Or, in another way:\n",
    "\n",
    "def initialize_inventory(products):\n",
    "    inventory = {}\n",
    "    for product in products:\n",
    "        valid_input = False\n",
    "        while not valid_input:\n",
    "            try:\n",
    "                quantity = int(input(f\"Enter the quantity of {product}s available: \"))\n",
    "                if quantity >= 0:\n",
    "                    inventory[product] = quantity\n",
    "                    valid_input = True\n",
    "                else:\n",
    "                    print(\"Quantity cannot be negative. Please enter a valid quantity.\")\n",
    "            except ValueError:\n",
    "                print(\"Invalid input. Please enter a valid quantity.\")\n",
    "    return inventory\n",
    "```\n",
    "\n",
    "Let's enhance your code by implementing error handling to handle invalid inputs.\n",
    "\n",
    "Follow the steps below to complete the exercise:\n",
    "\n",
    "2. Modify the `calculate_total_price` function to include error handling.\n",
    "   - If the user enters an invalid price (e.g., a negative value or a non-numeric value), display an error message and ask them to re-enter the price for that product.\n",
    "   - Use a try-except block to handle the error and continue prompting the user until a valid price is entered.\n",
    "\n",
    "3. Modify the `get_customer_orders` function to include error handling.\n",
    "   - If the user enters an invalid number of orders (e.g., a negative value or a non-numeric value), display an error message and ask them to re-enter the number of orders.\n",
    "   - If the user enters an invalid product name (e.g., a product name that is not in the inventory), or that doesn't have stock available, display an error message and ask them to re-enter the product name. *Hint: you will need to pass inventory as a parameter*\n",
    "   - Use a try-except block to handle the error and continue prompting the user until a valid product name is entered.\n",
    "\n",
    "4. Test your code by running the program and deliberately entering invalid quantities and product names. Make sure the error handling mechanism works as expected.\n"
   ]
  },
  {
   "cell_type": "code",
   "execution_count": null,
   "id": "49e362df",
   "metadata": {},
   "outputs": [],
   "source": []
  },
  {
   "cell_type": "code",
   "execution_count": 1,
   "id": "fe8437a0",
   "metadata": {},
   "outputs": [
    {
     "name": "stdout",
     "output_type": "stream",
     "text": [
      "The total price of all products is: 47.00€\n"
     ]
    }
   ],
   "source": [
    "#Modify the `calculate_total_price` function to include error handling.\n",
    "#- If the user enters an invalid price (e.g., a negative value or a non-numeric value), display an error message and ask them to re-enter the price for that product.\n",
    "#- Use a try-except block to handle the error and continue prompting the user until a valid price is entered.\n",
    "def calculate_total_price():\n",
    "    total_price = 0.0\n",
    "    while True:\n",
    "        try:\n",
    "            price = float(input(\"Enter the price of the product (or type 'done' to finish): \"))\n",
    "            if price < 0:\n",
    "                print(\"Error: Price cannot be negative. Please enter a valid price.\")\n",
    "                continue\n",
    "            total_price += price\n",
    "        except ValueError:\n",
    "            print(\"Error: Invalid input. Please enter a numeric value for the price.\")\n",
    "            continue\n",
    "        except KeyboardInterrupt:\n",
    "            print(\"\\nExiting the program.\")\n",
    "            break\n",
    "\n",
    "        if input(\"Do you want to add another product? (yes/no): \").strip().lower() != 'yes':\n",
    "            break\n",
    "\n",
    "    print(f\"The total price of all products is: {total_price:.2f}€\")\n",
    "    \n",
    "\n",
    "if __name__ == \"__main__\":\n",
    "    calculate_total_price()\n"
   ]
  },
  {
   "cell_type": "code",
   "execution_count": 2,
   "id": "f0d7b526",
   "metadata": {},
   "outputs": [],
   "source": [
    "#3.Modify the `get_customer_orders` function to include error handling.\n",
    "#- If the user enters an invalid number of orders (e.g., a negative value or a non-numeric value), display an error message and ask them to re-enter the number of orders.\n",
    "#- If the user enters an invalid product name (e.g., a product name that is not in the inventory), or that doesn't have stock available, display an error message and ask them to re-enter the product name. *Hint: you will need to pass inventory as a parameter*\n",
    "#- Use a try-except block to handle the error and continue prompting the user until a valid product name is entered.\n",
    "def get_customer_orders(inventory):\n",
    "    orders = []\n",
    "    while True:\n",
    "        try:\n",
    "            num_orders = int(input(\"Enter the number of orders (or type 'done' to finish): \"))\n",
    "            if num_orders < 0:\n",
    "                print(\"Error: Number of orders cannot be negative. Please enter a valid number.\")\n",
    "                continue\n",
    "        except ValueError:\n",
    "            print(\"Error: Invalid input. Please enter a numeric value for the number of orders.\")\n",
    "            continue\n",
    "        except KeyboardInterrupt:\n",
    "            print(\"\\nExiting the program.\")\n",
    "            break\n",
    "\n",
    "        for _ in range(num_orders):\n",
    "            product_name = input(\"Enter the product name: \").strip()\n",
    "            if product_name not in inventory or inventory[product_name] <= 0:\n",
    "                print(f\"Error: '{product_name}' is not available or out of stock. Please enter a valid product name.\")\n",
    "                continue\n",
    "            orders.append(product_name)\n",
    "            inventory[product_name] -= 1  # Decrease stock by 1 for each order\n",
    "\n",
    "        if input(\"Do you want to add more orders? (yes/no): \").strip().lower() != 'yes':\n",
    "            break\n",
    "\n",
    "    return orders"
   ]
  },
  {
   "cell_type": "code",
   "execution_count": null,
   "id": "19010472",
   "metadata": {},
   "outputs": [
    {
     "name": "stdout",
     "output_type": "stream",
     "text": [
      "Welcome to the Inventory Management System!\n",
      "Available products: t-shirt, mug, hat, book, keychain\n",
      "Error: 'jeans' is not available or out of stock. Please enter a valid product name.\n",
      "Your orders: ['mug', 'hat']\n",
      "Remaining inventory: {'t-shirt': 10, 'mug': 9, 'hat': 9, 'book': 10, 'keychain': 10}\n",
      "The total price of all products is: 22.00€\n",
      "None\n"
     ]
    }
   ],
   "source": [
    "#4. Test your code by running the program and deliberately entering invalid quantities and product names\n",
    "if __name__ == \"__main__\":\n",
    "    products = [\"t-shirt\", \"mug\", \"hat\", \"book\", \"keychain\"]\n",
    "    inventory = {product: 10 for product in products}  # Initialize inventory with 10 of each product\n",
    "\n",
    "    print(\"Welcome to the Inventory Management System!\")\n",
    "    print(\"Available products:\", \", \".join(products))\n",
    "\n",
    "    orders = get_customer_orders(inventory)\n",
    "    print(\"Your orders:\", orders)\n",
    "    print(\"Remaining inventory:\", inventory)\n",
    "\n",
    "\n"
   ]
  }
 ],
 "metadata": {
  "kernelspec": {
   "display_name": "Python 3",
   "language": "python",
   "name": "python3"
  },
  "language_info": {
   "codemirror_mode": {
    "name": "ipython",
    "version": 3
   },
   "file_extension": ".py",
   "mimetype": "text/x-python",
   "name": "python",
   "nbconvert_exporter": "python",
   "pygments_lexer": "ipython3",
   "version": "3.9.6"
  }
 },
 "nbformat": 4,
 "nbformat_minor": 5
}
